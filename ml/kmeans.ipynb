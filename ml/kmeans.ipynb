{
 "cells": [
  {
   "cell_type": "markdown",
   "metadata": {},
   "source": [
    "# K-means\n",
    "Simple, interactive example of the idea behind k-means algorithm\n",
    "\n",
    "## Load libraries"
   ]
  },
  {
   "cell_type": "code",
   "execution_count": 1,
   "metadata": {
    "collapsed": true
   },
   "outputs": [],
   "source": [
    "%matplotlib nbagg\n",
    "import ipywidgets as widgets\n",
    "import matplotlib.pyplot as plt\n",
    "import numpy as np\n",
    "import pandas as pd\n",
    "\n",
    "from IPython.display import display"
   ]
  },
  {
   "cell_type": "markdown",
   "metadata": {},
   "source": [
    "## Functions\n",
    "### Generate random data"
   ]
  },
  {
   "cell_type": "code",
   "execution_count": 2,
   "metadata": {
    "collapsed": true
   },
   "outputs": [],
   "source": [
    "STD = 0.2\n",
    "N = 10\n",
    "\n",
    "def get_random_data():\n",
    "    x1 = np.random.normal(3, STD, N)\n",
    "    y1 = np.random.normal(3, STD, N)\n",
    "    x2 = np.random.normal(4, STD, N)\n",
    "    y2 = np.random.normal(1, STD, N)\n",
    "    x3 = np.random.normal(2.5, STD, N)\n",
    "    y3 = np.random.normal(1, STD, N)\n",
    "\n",
    "    x = np.concatenate((x1, x2, x3))\n",
    "    y = np.concatenate((y1, y2, y3))\n",
    "    colours = len(x) * ['black']\n",
    "    return pd.DataFrame({'x': x, 'y': y, 'colour': colours})"
   ]
  },
  {
   "cell_type": "markdown",
   "metadata": {},
   "source": [
    "### Generate initial positions of the centres"
   ]
  },
  {
   "cell_type": "code",
   "execution_count": 3,
   "metadata": {
    "collapsed": true
   },
   "outputs": [],
   "source": [
    "def get_random_centres():\n",
    "    red = [np.random.uniform(1.5, 4.5), np.random.uniform(0.5, 3.5)]\n",
    "    green = [np.random.uniform(1.5, 4.5), np.random.uniform(0.5, 3.5)]\n",
    "    blue = [np.random.uniform(1.5, 4.5), np.random.uniform(0.5, 3.5)]\n",
    "    return red, green, blue"
   ]
  },
  {
   "cell_type": "markdown",
   "metadata": {},
   "source": [
    "### Simple plotting functions"
   ]
  },
  {
   "cell_type": "code",
   "execution_count": 4,
   "metadata": {
    "collapsed": true
   },
   "outputs": [],
   "source": [
    "def plot_points(data):\n",
    "    plt.clf()\n",
    "    plt.scatter(data.x, data.y, marker='o', c=data.colour)\n",
    "    plt.show()\n",
    "    \n",
    "def plot_points_with_centres(data, red, green, blue):\n",
    "    plt.clf()\n",
    "    plt.scatter(data.x, data.y, marker='o', c=data.colour)\n",
    "    plt.scatter(*red, marker='x', c='red', s=200)\n",
    "    plt.scatter(*green, marker='x', c='green', s=200)\n",
    "    plt.scatter(*blue, marker='x', c='blue', s=200)\n",
    "    plt.show()"
   ]
  },
  {
   "cell_type": "markdown",
   "metadata": {},
   "source": [
    "### Generate data and centres"
   ]
  },
  {
   "cell_type": "code",
   "execution_count": 5,
   "metadata": {
    "collapsed": true
   },
   "outputs": [],
   "source": [
    "data = get_random_data()\n",
    "red, green, blue = get_random_centres()"
   ]
  },
  {
   "cell_type": "markdown",
   "metadata": {},
   "source": [
    "### Functions to bind to the widgets"
   ]
  },
  {
   "cell_type": "code",
   "execution_count": 6,
   "metadata": {
    "collapsed": true
   },
   "outputs": [],
   "source": [
    "def calculate_colours(b):\n",
    "    global data\n",
    "    global red\n",
    "    global green\n",
    "    global blue\n",
    "    data['colour'] = data.apply(get_colour, axis=1, args=(red, green, blue))\n",
    "    plot_points_with_centres(data, red, green, blue)\n",
    "\n",
    "def calculate_means(b):\n",
    "    global data\n",
    "    global red\n",
    "    global green\n",
    "    global blue\n",
    "    \n",
    "    red = np.array((\n",
    "        get_mean(data['x'][data['colour'] == 'red']),\n",
    "        get_mean(data['y'][data['colour'] == 'red'])\n",
    "    ))\n",
    "    \n",
    "    green = np.array((\n",
    "        get_mean(data['x'][data['colour'] == 'green']), \n",
    "        get_mean(data['y'][data['colour'] == 'green'])\n",
    "    ))\n",
    "    \n",
    "    blue = np.array((\n",
    "        get_mean(data['x'][data['colour'] == 'blue']), \n",
    "        get_mean(data['y'][data['colour'] == 'blue'])\n",
    "    ))\n",
    "    \n",
    "    plot_points_with_centres(data, red, green, blue)\n",
    "    \n",
    "def generate_new_data(b):\n",
    "    global data\n",
    "    global red\n",
    "    global green\n",
    "    global blue\n",
    "    data = get_random_data()\n",
    "    red, green, blue = get_random_centres()\n",
    "\n",
    "def get_mean(x):\n",
    "    m = np.mean(x)\n",
    "    if np.isnan(m):\n",
    "        return np.random.uniform(0, 5)\n",
    "    return m\n",
    "    \n",
    "def get_colour(row, red, green, blue):\n",
    "    p = np.array((row['x'], row['y']))\n",
    "    d = {}\n",
    "    d[np.linalg.norm(p - red)] = 'red'\n",
    "    d[np.linalg.norm(p - green)] = 'green'\n",
    "    d[np.linalg.norm(p - blue)] = 'blue'\n",
    "    return d[min(d.keys())]\n",
    "\n",
    "def plot_initial(b):\n",
    "    global data\n",
    "    global red\n",
    "    global green\n",
    "    global blue\n",
    "    plot_points_with_centres(data, red, green, blue)\n",
    "    \n",
    "    "
   ]
  },
  {
   "cell_type": "markdown",
   "metadata": {},
   "source": [
    "### Widgets with plots\n",
    "1. `New data set` - generate new data\n",
    "1. `Plot initial` - plot the data and centres\n",
    "1. `Calculate colours` - assign each point to a group\n",
    "1. `Move centres` - move the centres to the centres of mass of each group\n",
    "\n",
    "After generating new data you can plot it. Afterwards you shoud calculate new colours, move centres, calculate new colours, ... untill you end up in the equilibrium state."
   ]
  },
  {
   "cell_type": "code",
   "execution_count": 7,
   "metadata": {},
   "outputs": [
    {
     "data": {
      "application/vnd.jupyter.widget-view+json": {
       "model_id": "bfc9cee19c6d490a95e866a46b45fa6a"
      }
     },
     "metadata": {},
     "output_type": "display_data"
    }
   ],
   "source": [
    "btn_new_data = widgets.Button(description=\"New data set\")\n",
    "btn_plot_initial = widgets.Button(description=\"Plot initial\")\n",
    "btn_calculate_colours = widgets.Button(description=\"Calculate colurs\")\n",
    "btn_calculate_means = widgets.Button(description=\"Move centres\")\n",
    "\n",
    "\n",
    "btn_new_data.on_click(generate_new_data)\n",
    "btn_plot_initial.on_click(plot_initial)\n",
    "btn_calculate_colours.on_click(calculate_colours)\n",
    "btn_calculate_means.on_click(calculate_means)\n",
    "\n",
    "widgets.HBox([btn_new_data, btn_plot_initial, btn_calculate_colours, btn_calculate_means])\n"
   ]
  }
 ],
 "metadata": {
  "kernelspec": {
   "display_name": "Python 3",
   "language": "python",
   "name": "python3"
  },
  "language_info": {
   "codemirror_mode": {
    "name": "ipython",
    "version": 3
   },
   "file_extension": ".py",
   "mimetype": "text/x-python",
   "name": "python",
   "nbconvert_exporter": "python",
   "pygments_lexer": "ipython3",
   "version": "3.6.1"
  }
 },
 "nbformat": 4,
 "nbformat_minor": 2
}
