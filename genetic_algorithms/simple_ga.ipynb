{
 "cells": [
  {
   "cell_type": "markdown",
   "metadata": {},
   "source": [
    "# Simple example of genetic algorithm"
   ]
  },
  {
   "cell_type": "code",
   "execution_count": null,
   "metadata": {
    "collapsed": true
   },
   "outputs": [],
   "source": [
    "import random\n",
    "import string"
   ]
  },
  {
   "cell_type": "markdown",
   "metadata": {},
   "source": [
    "`TARGET` is our string that needs to be matched by the best individual. We will run our algorithm for 50 generations of 100 individuals. Mutation chance is set to be 5%."
   ]
  },
  {
   "cell_type": "code",
   "execution_count": null,
   "metadata": {
    "collapsed": true
   },
   "outputs": [],
   "source": [
    "TARGET = 'to be or not to be'\n",
    "GENERATIONS = 50\n",
    "POPULATION = 100\n",
    "MUTATION_CHANCE = 0.05"
   ]
  },
  {
   "cell_type": "markdown",
   "metadata": {},
   "source": [
    "Starting population will consist of individuals composed of random characters and spaces."
   ]
  },
  {
   "cell_type": "code",
   "execution_count": null,
   "metadata": {
    "collapsed": true
   },
   "outputs": [],
   "source": [
    "def generate_individual():\n",
    "    return ''.join(random.SystemRandom().choice(string.ascii_lowercase + ' ') for _ in range(len(TARGET)))"
   ]
  },
  {
   "cell_type": "markdown",
   "metadata": {},
   "source": [
    "We need to define a function that will rate each individual and check how fit they are. In this case we assign a 2 to the power of number of correct letters on correct positions."
   ]
  },
  {
   "cell_type": "code",
   "execution_count": null,
   "metadata": {
    "collapsed": true
   },
   "outputs": [],
   "source": [
    "def calculate_fitness(population):\n",
    "    return [(i, 2 ** sum([1 for (a, b) in zip(i, TARGET) if a == b])) for i in population]"
   ]
  },
  {
   "cell_type": "markdown",
   "metadata": {},
   "source": [
    "A new generation will take the previous one, select two individuals to, allow them to have a child and calculate fitness of each of the new generation individual."
   ]
  },
  {
   "cell_type": "code",
   "execution_count": null,
   "metadata": {
    "collapsed": true
   },
   "outputs": [],
   "source": [
    "def new_population(population):\n",
    "    return calculate_fitness([cross(weighted_random_choice(population), weighted_random_choice(population)) for _ in population])"
   ]
  },
  {
   "cell_type": "markdown",
   "metadata": {},
   "source": [
    "We select randomly an individual from our population, where better ones have higher chance to be picked up."
   ]
  },
  {
   "cell_type": "code",
   "execution_count": null,
   "metadata": {
    "collapsed": true
   },
   "outputs": [],
   "source": [
    "def weighted_random_choice(population):\n",
    "    max = sum([i[1] for i in population])\n",
    "    pick = random.uniform(0, max)\n",
    "    current = 0\n",
    "    for individual in population:\n",
    "        current += individual[1]\n",
    "        if current > pick:\n",
    "            return individual[0]"
   ]
  },
  {
   "cell_type": "markdown",
   "metadata": {},
   "source": [
    "To create a child we pick two parents and randomly select one of two letters for each position. However, there is some small chance for mutation, when a random letter (or space) is chosen for this particular position."
   ]
  },
  {
   "cell_type": "code",
   "execution_count": null,
   "metadata": {
    "collapsed": true
   },
   "outputs": [],
   "source": [
    "def cross(i1, i2):\n",
    "    child = ''\n",
    "    for v in zip(i1, i2):\n",
    "        if random.random() < MUTATION_CHANCE:\n",
    "            letter = random.choice(string.ascii_lowercase + ' ')\n",
    "        else:\n",
    "            letter = random.choice(v)\n",
    "        child += letter\n",
    "    return child"
   ]
  },
  {
   "cell_type": "markdown",
   "metadata": {},
   "source": [
    "Now we can prepare initial population and calculate the fitness"
   ]
  },
  {
   "cell_type": "code",
   "execution_count": null,
   "metadata": {
    "collapsed": true
   },
   "outputs": [],
   "source": [
    "population = [generate_individual() for _ in range(POPULATION)]\n",
    "population = calculate_fitness(population)"
   ]
  },
  {
   "cell_type": "markdown",
   "metadata": {},
   "source": [
    "The last step is to let our population evolve and check the best individual from each generation"
   ]
  },
  {
   "cell_type": "code",
   "execution_count": 55,
   "metadata": {},
   "outputs": [
    {
     "name": "stdout",
     "output_type": "stream",
     "text": [
      "Generation: 1\n",
      "---------------------------\n",
      "Best individual: to be or not to be with fitness of 262144\n",
      "\n",
      "\n",
      "Generation: 2\n",
      "---------------------------\n",
      "Best individual: to be or not to be with fitness of 262144\n",
      "\n",
      "\n",
      "Generation: 3\n",
      "---------------------------\n",
      "Best individual: to be or not to be with fitness of 262144\n",
      "\n",
      "\n",
      "Generation: 4\n",
      "---------------------------\n",
      "Best individual: to be or not to be with fitness of 262144\n",
      "\n",
      "\n",
      "Generation: 5\n",
      "---------------------------\n",
      "Best individual: to be or not to be with fitness of 262144\n",
      "\n",
      "\n",
      "Generation: 6\n",
      "---------------------------\n",
      "Best individual: to be or not to be with fitness of 262144\n",
      "\n",
      "\n",
      "Generation: 7\n",
      "---------------------------\n",
      "Best individual: to be or not to be with fitness of 262144\n",
      "\n",
      "\n",
      "Generation: 8\n",
      "---------------------------\n",
      "Best individual: to be or not to be with fitness of 262144\n",
      "\n",
      "\n",
      "Generation: 9\n",
      "---------------------------\n",
      "Best individual: to be or not to be with fitness of 262144\n",
      "\n",
      "\n",
      "Generation: 10\n",
      "---------------------------\n",
      "Best individual: to be or not to be with fitness of 262144\n",
      "\n",
      "\n",
      "Generation: 11\n",
      "---------------------------\n",
      "Best individual: to be or not to be with fitness of 262144\n",
      "\n",
      "\n",
      "Generation: 12\n",
      "---------------------------\n",
      "Best individual: to be or not to be with fitness of 262144\n",
      "\n",
      "\n",
      "Generation: 13\n",
      "---------------------------\n",
      "Best individual: to be or not to be with fitness of 262144\n",
      "\n",
      "\n",
      "Generation: 14\n",
      "---------------------------\n",
      "Best individual: to be or not to be with fitness of 262144\n",
      "\n",
      "\n",
      "Generation: 15\n",
      "---------------------------\n",
      "Best individual: to be or not to be with fitness of 262144\n",
      "\n",
      "\n",
      "Generation: 16\n",
      "---------------------------\n",
      "Best individual: to be or not to be with fitness of 262144\n",
      "\n",
      "\n",
      "Generation: 17\n",
      "---------------------------\n",
      "Best individual: to be or not to be with fitness of 262144\n",
      "\n",
      "\n",
      "Generation: 18\n",
      "---------------------------\n",
      "Best individual: to be or not to be with fitness of 262144\n",
      "\n",
      "\n",
      "Generation: 19\n",
      "---------------------------\n",
      "Best individual: to be or not to be with fitness of 262144\n",
      "\n",
      "\n",
      "Generation: 20\n",
      "---------------------------\n",
      "Best individual: to be or not to be with fitness of 262144\n",
      "\n",
      "\n",
      "Generation: 21\n",
      "---------------------------\n",
      "Best individual: to be or not to be with fitness of 262144\n",
      "\n",
      "\n",
      "Generation: 22\n",
      "---------------------------\n",
      "Best individual: to be or not to be with fitness of 262144\n",
      "\n",
      "\n",
      "Generation: 23\n",
      "---------------------------\n",
      "Best individual: to be or not to be with fitness of 262144\n",
      "\n",
      "\n",
      "Generation: 24\n",
      "---------------------------\n",
      "Best individual: to be or not to be with fitness of 262144\n",
      "\n",
      "\n",
      "Generation: 25\n",
      "---------------------------\n",
      "Best individual: to be or not to be with fitness of 262144\n",
      "\n",
      "\n",
      "Generation: 26\n",
      "---------------------------\n",
      "Best individual: to be or not to be with fitness of 262144\n",
      "\n",
      "\n",
      "Generation: 27\n",
      "---------------------------\n",
      "Best individual: to be or not to be with fitness of 262144\n",
      "\n",
      "\n",
      "Generation: 28\n",
      "---------------------------\n",
      "Best individual: to be or not to be with fitness of 262144\n",
      "\n",
      "\n",
      "Generation: 29\n",
      "---------------------------\n",
      "Best individual: to be or not to be with fitness of 262144\n",
      "\n",
      "\n",
      "Generation: 30\n",
      "---------------------------\n",
      "Best individual: to be or not to be with fitness of 262144\n",
      "\n",
      "\n",
      "Generation: 31\n",
      "---------------------------\n",
      "Best individual: to be or not to be with fitness of 262144\n",
      "\n",
      "\n",
      "Generation: 32\n",
      "---------------------------\n",
      "Best individual: to be or not to be with fitness of 262144\n",
      "\n",
      "\n",
      "Generation: 33\n",
      "---------------------------\n",
      "Best individual: to be or not to be with fitness of 262144\n",
      "\n",
      "\n",
      "Generation: 34\n",
      "---------------------------\n",
      "Best individual: to be or not to be with fitness of 262144\n",
      "\n",
      "\n",
      "Generation: 35\n",
      "---------------------------\n",
      "Best individual: to be or not to be with fitness of 262144\n",
      "\n",
      "\n",
      "Generation: 36\n",
      "---------------------------\n",
      "Best individual: to be or not to be with fitness of 262144\n",
      "\n",
      "\n",
      "Generation: 37\n",
      "---------------------------\n",
      "Best individual: to be or not to be with fitness of 262144\n",
      "\n",
      "\n",
      "Generation: 38\n",
      "---------------------------\n",
      "Best individual: to be or not to be with fitness of 262144\n",
      "\n",
      "\n",
      "Generation: 39\n",
      "---------------------------\n",
      "Best individual: to be or not to be with fitness of 262144\n",
      "\n",
      "\n",
      "Generation: 40\n",
      "---------------------------\n",
      "Best individual: to be or not to be with fitness of 262144\n",
      "\n",
      "\n",
      "Generation: 41\n",
      "---------------------------\n",
      "Best individual: to be or not to be with fitness of 262144\n",
      "\n",
      "\n",
      "Generation: 42\n",
      "---------------------------\n",
      "Best individual: to be or not to be with fitness of 262144\n",
      "\n",
      "\n",
      "Generation: 43\n",
      "---------------------------\n",
      "Best individual: to be or not to be with fitness of 262144\n",
      "\n",
      "\n",
      "Generation: 44\n",
      "---------------------------\n",
      "Best individual: to be or not to be with fitness of 262144\n",
      "\n",
      "\n",
      "Generation: 45\n",
      "---------------------------\n",
      "Best individual: to be or not to be with fitness of 262144\n",
      "\n",
      "\n",
      "Generation: 46\n",
      "---------------------------\n",
      "Best individual: to be or not to be with fitness of 262144\n",
      "\n",
      "\n",
      "Generation: 47\n",
      "---------------------------\n",
      "Best individual: to be or not to be with fitness of 262144\n",
      "\n",
      "\n",
      "Generation: 48\n",
      "---------------------------\n",
      "Best individual: to be or not to be with fitness of 262144\n",
      "\n",
      "\n",
      "Generation: 49\n",
      "---------------------------\n",
      "Best individual: to be or not to be with fitness of 262144\n",
      "\n",
      "\n",
      "Generation: 50\n",
      "---------------------------\n",
      "Best individual: to be or not to be with fitness of 262144\n",
      "\n",
      "\n"
     ]
    }
   ],
   "source": [
    "for generation in range(GENERATIONS):\n",
    "    print('Generation:', generation + 1)\n",
    "    print('---------------------------')\n",
    "    population = sorted(population, key=lambda x: x[1], reverse=True)\n",
    "    print('Best individual:', population[0][0], 'with fitness of', population[0][1])\n",
    "    print('\\n')\n",
    "    population = new_population(population)"
   ]
  },
  {
   "cell_type": "markdown",
   "metadata": {},
   "source": [
    "We can set different population size, number of generations, mutation chance, method for calculating the fitness, selection of parents and "
   ]
  }
 ],
 "metadata": {
  "kernelspec": {
   "display_name": "Python 3",
   "language": "python",
   "name": "python3"
  },
  "language_info": {
   "codemirror_mode": {
    "name": "ipython",
    "version": 3
   },
   "file_extension": ".py",
   "mimetype": "text/x-python",
   "name": "python",
   "nbconvert_exporter": "python",
   "pygments_lexer": "ipython3",
   "version": "3.6.1"
  }
 },
 "nbformat": 4,
 "nbformat_minor": 2
}
